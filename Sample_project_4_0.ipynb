{
  "nbformat": 4,
  "nbformat_minor": 0,
  "metadata": {
    "colab": {
      "provenance": [],
      "authorship_tag": "ABX9TyMSWEBtFvxKNi/PIGsoLEGk",
      "include_colab_link": true
    },
    "kernelspec": {
      "name": "python3",
      "display_name": "Python 3"
    },
    "language_info": {
      "name": "python"
    }
  },
  "cells": [
    {
      "cell_type": "markdown",
      "metadata": {
        "id": "view-in-github",
        "colab_type": "text"
      },
      "source": [
        "<a href=\"https://colab.research.google.com/github/Ronin1289/Generating-Building-Drawings-Using-Image-Processing/blob/main/Sample_project_4_0.ipynb\" target=\"_parent\"><img src=\"https://colab.research.google.com/assets/colab-badge.svg\" alt=\"Open In Colab\"/></a>"
      ]
    },
    {
      "cell_type": "code",
      "source": [
        "!pip install ezdxf"
      ],
      "metadata": {
        "colab": {
          "base_uri": "https://localhost:8080/"
        },
        "id": "8ATCFKnsyfWG",
        "outputId": "1da8de0e-97c7-4381-e80d-554550aabf09"
      },
      "execution_count": null,
      "outputs": [
        {
          "output_type": "stream",
          "name": "stdout",
          "text": [
            "Collecting ezdxf\n",
            "  Downloading ezdxf-1.3.5-cp311-cp311-manylinux_2_17_x86_64.manylinux2014_x86_64.whl.metadata (9.8 kB)\n",
            "Requirement already satisfied: pyparsing>=2.0.1 in /usr/local/lib/python3.11/dist-packages (from ezdxf) (3.2.1)\n",
            "Requirement already satisfied: typing_extensions>=4.6.0 in /usr/local/lib/python3.11/dist-packages (from ezdxf) (4.12.2)\n",
            "Requirement already satisfied: numpy in /usr/local/lib/python3.11/dist-packages (from ezdxf) (1.26.4)\n",
            "Requirement already satisfied: fonttools in /usr/local/lib/python3.11/dist-packages (from ezdxf) (4.56.0)\n",
            "Downloading ezdxf-1.3.5-cp311-cp311-manylinux_2_17_x86_64.manylinux2014_x86_64.whl (5.6 MB)\n",
            "\u001b[2K   \u001b[90m━━━━━━━━━━━━━━━━━━━━━━━━━━━━━━━━━━━━━━━━\u001b[0m \u001b[32m5.6/5.6 MB\u001b[0m \u001b[31m32.5 MB/s\u001b[0m eta \u001b[36m0:00:00\u001b[0m\n",
            "\u001b[?25hInstalling collected packages: ezdxf\n",
            "Successfully installed ezdxf-1.3.5\n"
          ]
        }
      ]
    },
    {
      "cell_type": "code",
      "execution_count": null,
      "metadata": {
        "id": "8-r0i0_JZyvv"
      },
      "outputs": [],
      "source": [
        "import cv2\n",
        "import matplotlib.pyplot as plt\n",
        "import numpy as np\n",
        "import ezdxf"
      ]
    },
    {
      "cell_type": "code",
      "source": [
        "img=cv2.imread('/content/sample_data/gsck2.png',cv2.IMREAD_GRAYSCALE)"
      ],
      "metadata": {
        "id": "zqaehV3CyNDS"
      },
      "execution_count": null,
      "outputs": []
    },
    {
      "cell_type": "code",
      "source": [
        "l=dlsd(img)"
      ],
      "metadata": {
        "id": "iBz8AqlYyoWF"
      },
      "execution_count": null,
      "outputs": []
    },
    {
      "cell_type": "code",
      "source": [
        "print(l.shape)"
      ],
      "metadata": {
        "colab": {
          "base_uri": "https://localhost:8080/"
        },
        "id": "Cca3MwdBy-KR",
        "outputId": "672904cb-7140-442e-8faf-c1239d2793d2"
      },
      "execution_count": null,
      "outputs": [
        {
          "output_type": "stream",
          "name": "stdout",
          "text": [
            "(1432, 1, 4)\n"
          ]
        }
      ]
    },
    {
      "cell_type": "code",
      "source": [
        "def dlsd(img):\n",
        "    # Create LSD detector\n",
        "    lsd = cv2.createLineSegmentDetector(0)\n",
        "    # Detect lines\n",
        "    lines, _, _, _ = lsd.detect(img)\n",
        "\n",
        "    return lines if lines is not None else np.array([])  # Return an empty array if no lines are found\n"
      ],
      "metadata": {
        "id": "adm8QXgYz05A"
      },
      "execution_count": null,
      "outputs": []
    },
    {
      "cell_type": "code",
      "source": [
        "import ezdxf\n",
        "import numpy as np\n",
        "\n",
        "def save_lines_to_dxf(lines, filename=\"output.dxf\"):\n",
        "    # Create a new DXF document\n",
        "    doc = ezdxf.new()\n",
        "    msp = doc.modelspace()\n",
        "\n",
        "    # Iterate over detected lines and add them to the DXF file\n",
        "    for line in lines[:, 0, :]:  # Reshape (N, 1, 4) -> (N, 4)\n",
        "        x1, y1, x2, y2 = line\n",
        "        msp.add_line(start=(x1, y1), end=(x2, y2))\n",
        "\n",
        "    # Save DXF file\n",
        "    doc.saveas(filename)\n",
        "    print(f\"DXF file saved as {filename}\")\n",
        "\n",
        "# Example usage with an existing array of shape (1432, 1, 4)\n",
        "lines = np.random.rand(1432, 1, 4) * 1000  # Example array (replace with actual LSD output)\n",
        "save_lines_to_dxf(l, \"Approach 3.dxf\")\n",
        "\n",
        "def download_dxf(filename=\"output.dxf\"):\n",
        "    from google.colab import files\n",
        "    files.download(filename)\n",
        "\n",
        "download_dxf(\"Approach 3.dxf\")\n",
        "\n",
        "\n",
        "\n",
        "Approach 3.dxf\n"
      ],
      "metadata": {
        "colab": {
          "base_uri": "https://localhost:8080/",
          "height": 35
        },
        "id": "bAEzlt6b0iSE",
        "outputId": "2b1d57a7-dffc-4e9b-fbdb-a0d8ff745129"
      },
      "execution_count": null,
      "outputs": [
        {
          "output_type": "stream",
          "name": "stdout",
          "text": [
            "DXF file saved as Approach 3.dxf\n"
          ]
        },
        {
          "output_type": "display_data",
          "data": {
            "text/plain": [
              "<IPython.core.display.Javascript object>"
            ],
            "application/javascript": [
              "\n",
              "    async function download(id, filename, size) {\n",
              "      if (!google.colab.kernel.accessAllowed) {\n",
              "        return;\n",
              "      }\n",
              "      const div = document.createElement('div');\n",
              "      const label = document.createElement('label');\n",
              "      label.textContent = `Downloading \"${filename}\": `;\n",
              "      div.appendChild(label);\n",
              "      const progress = document.createElement('progress');\n",
              "      progress.max = size;\n",
              "      div.appendChild(progress);\n",
              "      document.body.appendChild(div);\n",
              "\n",
              "      const buffers = [];\n",
              "      let downloaded = 0;\n",
              "\n",
              "      const channel = await google.colab.kernel.comms.open(id);\n",
              "      // Send a message to notify the kernel that we're ready.\n",
              "      channel.send({})\n",
              "\n",
              "      for await (const message of channel.messages) {\n",
              "        // Send a message to notify the kernel that we're ready.\n",
              "        channel.send({})\n",
              "        if (message.buffers) {\n",
              "          for (const buffer of message.buffers) {\n",
              "            buffers.push(buffer);\n",
              "            downloaded += buffer.byteLength;\n",
              "            progress.value = downloaded;\n",
              "          }\n",
              "        }\n",
              "      }\n",
              "      const blob = new Blob(buffers, {type: 'application/binary'});\n",
              "      const a = document.createElement('a');\n",
              "      a.href = window.URL.createObjectURL(blob);\n",
              "      a.download = filename;\n",
              "      div.appendChild(a);\n",
              "      a.click();\n",
              "      div.remove();\n",
              "    }\n",
              "  "
            ]
          },
          "metadata": {}
        },
        {
          "output_type": "display_data",
          "data": {
            "text/plain": [
              "<IPython.core.display.Javascript object>"
            ],
            "application/javascript": [
              "download(\"download_78ee11ee-7936-4b65-9602-ced917be3c7b\", \"Approach 3.dxf\", 247681)"
            ]
          },
          "metadata": {}
        }
      ]
    },
    {
      "cell_type": "code",
      "source": [
        "import ezdxf\n",
        "import numpy as np\n",
        "from google.colab import files\n",
        "\n",
        "def save_lines_to_dxf(lines, filename=\"output.dxf\"):\n",
        "    # Create a new DXF document\n",
        "    doc = ezdxf.new()\n",
        "    msp = doc.modelspace()\n",
        "\n",
        "    # Iterate over detected lines and add them to the DXF file\n",
        "    for line in lines[:, 0, :]:  # Reshape (N, 1, 4) -> (N, 4)\n",
        "        x1, y1, x2, y2 = line\n",
        "        # Flip the y-coordinates to correct inversion\n",
        "        y1_flipped = -y1\n",
        "        y2_flipped = -y2\n",
        "\n",
        "        msp.add_line(start=(x1, y1_flipped), end=(x2, y2_flipped))\n",
        "\n",
        "    # Save DXF file\n",
        "    doc.saveas(filename)\n",
        "    print(f\"DXF file saved as {filename}\")\n",
        "\n",
        "def download_dxf(filename=\"output.dxf\"):\n",
        "    files.download(filename)\n",
        "\n",
        "# Example usage\n",
        "lines = np.random.rand(1432, 1, 4) * 1000  # Example array (replace with actual LSD output)\n",
        "save_lines_to_dxf(lines, \"output.dxf\")\n",
        "\n",
        "# Download the DXF file\n",
        "download_dxf(\"Approach 3.dxf\")\n"
      ],
      "metadata": {
        "colab": {
          "base_uri": "https://localhost:8080/",
          "height": 35
        },
        "id": "ZfWhZyLP1WkZ",
        "outputId": "5b5ed2be-995d-43f2-a99c-dfab09d11fd5"
      },
      "execution_count": null,
      "outputs": [
        {
          "output_type": "stream",
          "name": "stdout",
          "text": [
            "DXF file saved as output.dxf\n"
          ]
        },
        {
          "output_type": "display_data",
          "data": {
            "text/plain": [
              "<IPython.core.display.Javascript object>"
            ],
            "application/javascript": [
              "\n",
              "    async function download(id, filename, size) {\n",
              "      if (!google.colab.kernel.accessAllowed) {\n",
              "        return;\n",
              "      }\n",
              "      const div = document.createElement('div');\n",
              "      const label = document.createElement('label');\n",
              "      label.textContent = `Downloading \"${filename}\": `;\n",
              "      div.appendChild(label);\n",
              "      const progress = document.createElement('progress');\n",
              "      progress.max = size;\n",
              "      div.appendChild(progress);\n",
              "      document.body.appendChild(div);\n",
              "\n",
              "      const buffers = [];\n",
              "      let downloaded = 0;\n",
              "\n",
              "      const channel = await google.colab.kernel.comms.open(id);\n",
              "      // Send a message to notify the kernel that we're ready.\n",
              "      channel.send({})\n",
              "\n",
              "      for await (const message of channel.messages) {\n",
              "        // Send a message to notify the kernel that we're ready.\n",
              "        channel.send({})\n",
              "        if (message.buffers) {\n",
              "          for (const buffer of message.buffers) {\n",
              "            buffers.push(buffer);\n",
              "            downloaded += buffer.byteLength;\n",
              "            progress.value = downloaded;\n",
              "          }\n",
              "        }\n",
              "      }\n",
              "      const blob = new Blob(buffers, {type: 'application/binary'});\n",
              "      const a = document.createElement('a');\n",
              "      a.href = window.URL.createObjectURL(blob);\n",
              "      a.download = filename;\n",
              "      div.appendChild(a);\n",
              "      a.click();\n",
              "      div.remove();\n",
              "    }\n",
              "  "
            ]
          },
          "metadata": {}
        },
        {
          "output_type": "display_data",
          "data": {
            "text/plain": [
              "<IPython.core.display.Javascript object>"
            ],
            "application/javascript": [
              "download(\"download_df81c801-b73f-4ec7-a2d4-0348521f473b\", \"Approach 3.dxf\", 247681)"
            ]
          },
          "metadata": {}
        }
      ]
    }
  ]
}