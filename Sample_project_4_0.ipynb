{
  "nbformat": 4,
  "nbformat_minor": 0,
  "metadata": {
    "colab": {
      "provenance": [],
      "authorship_tag": "ABX9TyNzE2nlaJiVE0dp25qTIXQV",
      "include_colab_link": true
    },
    "kernelspec": {
      "name": "python3",
      "display_name": "Python 3"
    },
    "language_info": {
      "name": "python"
    }
  },
  "cells": [
    {
      "cell_type": "markdown",
      "metadata": {
        "id": "view-in-github",
        "colab_type": "text"
      },
      "source": [
        "<a href=\"https://colab.research.google.com/github/Ronin1289/Generating-Building-Drawings-Using-Image-Processing/blob/Experiments/Sample_project_4_0.ipynb\" target=\"_parent\"><img src=\"https://colab.research.google.com/assets/colab-badge.svg\" alt=\"Open In Colab\"/></a>"
      ]
    },
    {
      "cell_type": "code",
      "source": [
        "!pip install ezdxf"
      ],
      "metadata": {
        "colab": {
          "base_uri": "https://localhost:8080/"
        },
        "id": "8ATCFKnsyfWG",
        "outputId": "4c8195de-a89f-47a1-ab46-2cb8d216c029"
      },
      "execution_count": null,
      "outputs": [
        {
          "output_type": "stream",
          "name": "stdout",
          "text": [
            "Collecting ezdxf\n",
            "  Downloading ezdxf-1.3.5-cp311-cp311-manylinux_2_17_x86_64.manylinux2014_x86_64.whl.metadata (9.8 kB)\n",
            "Requirement already satisfied: pyparsing>=2.0.1 in /usr/local/lib/python3.11/dist-packages (from ezdxf) (3.2.1)\n",
            "Requirement already satisfied: typing_extensions>=4.6.0 in /usr/local/lib/python3.11/dist-packages (from ezdxf) (4.12.2)\n",
            "Requirement already satisfied: numpy in /usr/local/lib/python3.11/dist-packages (from ezdxf) (1.26.4)\n",
            "Requirement already satisfied: fonttools in /usr/local/lib/python3.11/dist-packages (from ezdxf) (4.56.0)\n",
            "Downloading ezdxf-1.3.5-cp311-cp311-manylinux_2_17_x86_64.manylinux2014_x86_64.whl (5.6 MB)\n",
            "\u001b[2K   \u001b[90m━━━━━━━━━━━━━━━━━━━━━━━━━━━━━━━━━━━━━━━━\u001b[0m \u001b[32m5.6/5.6 MB\u001b[0m \u001b[31m39.6 MB/s\u001b[0m eta \u001b[36m0:00:00\u001b[0m\n",
            "\u001b[?25hInstalling collected packages: ezdxf\n",
            "Successfully installed ezdxf-1.3.5\n"
          ]
        }
      ]
    },
    {
      "cell_type": "code",
      "execution_count": null,
      "metadata": {
        "id": "8-r0i0_JZyvv"
      },
      "outputs": [],
      "source": [
        "import cv2\n",
        "import matplotlib.pyplot as plt\n",
        "import numpy as np\n",
        "import ezdxf"
      ]
    },
    {
      "cell_type": "code",
      "source": [
        "img=cv2.imread('/content/sample_data/gsck2.png',cv2.IMREAD_GRAYSCALE)"
      ],
      "metadata": {
        "id": "zqaehV3CyNDS"
      },
      "execution_count": null,
      "outputs": []
    },
    {
      "cell_type": "code",
      "source": [
        "# Get image dimensions\n",
        "height, width= img.shape  # Height is the first value\n",
        "\n",
        "print(\"Image Height:\", height)"
      ],
      "metadata": {
        "colab": {
          "base_uri": "https://localhost:8080/"
        },
        "id": "1zlxtgnTtIGF",
        "outputId": "90f9d906-e85c-413b-ff3c-f5565da2453e"
      },
      "execution_count": 24,
      "outputs": [
        {
          "output_type": "stream",
          "name": "stdout",
          "text": [
            "Image Height: 378\n"
          ]
        }
      ]
    },
    {
      "cell_type": "code",
      "source": [
        "l=dlsd(img)"
      ],
      "metadata": {
        "id": "iBz8AqlYyoWF"
      },
      "execution_count": null,
      "outputs": []
    },
    {
      "cell_type": "code",
      "source": [
        "print(l.shape)"
      ],
      "metadata": {
        "colab": {
          "base_uri": "https://localhost:8080/"
        },
        "id": "Cca3MwdBy-KR",
        "outputId": "6458c399-f516-4b9f-85d4-cb6f74e2c1a1"
      },
      "execution_count": null,
      "outputs": [
        {
          "output_type": "stream",
          "name": "stdout",
          "text": [
            "(1432, 1, 4)\n"
          ]
        }
      ]
    },
    {
      "cell_type": "code",
      "source": [
        "def dlsd(img):\n",
        "    # Create LSD detector\n",
        "    lsd = cv2.createLineSegmentDetector(0)\n",
        "    # Detect lines\n",
        "    lines, _, _, _ = lsd.detect(img)\n",
        "\n",
        "    return lines if lines is not None else np.array([])  # Return an empty array if no lines are found\n"
      ],
      "metadata": {
        "id": "adm8QXgYz05A"
      },
      "execution_count": null,
      "outputs": []
    },
    {
      "cell_type": "code",
      "source": [
        "import ezdxf\n",
        "import numpy as np\n",
        "\n",
        "# Sample array (replace with your actual array)\n",
        "lines = np.random.rand(1432, 1, 4) * 100  # Example random coordinates\n",
        "lines = lines.squeeze()  # Reshape to (1432, 4)\n",
        "lines =l.squeeze()\n",
        "# Create a new DXF document\n",
        "doc = ezdxf.new()\n",
        "msp = doc.modelspace()\n",
        "\n",
        "# Add lines to DXF\n",
        "for x1, y1, x2, y2 in lines:\n",
        "    msp.add_line(start=(x1, y1), end=(x2, y2))\n",
        "\n",
        "# Save the DXF file\n",
        "doc.saveas(\"output.dxf\")\n"
      ],
      "metadata": {
        "id": "S4_AOQ86sQIN"
      },
      "execution_count": 22,
      "outputs": []
    },
    {
      "cell_type": "code",
      "source": [
        "import ezdxf\n",
        "import numpy as np\n",
        "\n",
        "# Define image height (update this based on your actual image size)\n",
        "IMAGE_HEIGHT = 378  # Replace with actual height of your image\n",
        "\n",
        "# Sample array (replace with your actual array)\n",
        "lines = np.random.rand(1432, 1, 4) * 100  # Example random coordinates\n",
        "lines = lines.squeeze()  # Reshape to (1432, 4)\n",
        "lines=l.squeeze()\n",
        "\n",
        "# Create a new DXF document\n",
        "doc = ezdxf.new()\n",
        "msp = doc.modelspace()\n",
        "\n",
        "# Convert and add lines to DXF\n",
        "for x1, y1, x2, y2 in lines:\n",
        "    y1_dxf = IMAGE_HEIGHT - y1\n",
        "    y2_dxf = IMAGE_HEIGHT - y2\n",
        "    msp.add_line(start=(x1, y1_dxf), end=(x2, y2_dxf))\n",
        "\n",
        "# Save the DXF file\n",
        "doc.saveas(\"output.dxf\")\n"
      ],
      "metadata": {
        "id": "eKW44YgWtQNb"
      },
      "execution_count": 26,
      "outputs": []
    },
    {
      "cell_type": "code",
      "source": [
        "from google.colab import files\n",
        "\n",
        "# Download the DXF file\n",
        "files.download(\"output.dxf\")"
      ],
      "metadata": {
        "colab": {
          "base_uri": "https://localhost:8080/",
          "height": 17
        },
        "id": "Pn15kzzVtvac",
        "outputId": "cceea71c-2da4-41d1-b18c-14f15a08a49a"
      },
      "execution_count": 28,
      "outputs": [
        {
          "output_type": "display_data",
          "data": {
            "text/plain": [
              "<IPython.core.display.Javascript object>"
            ],
            "application/javascript": [
              "\n",
              "    async function download(id, filename, size) {\n",
              "      if (!google.colab.kernel.accessAllowed) {\n",
              "        return;\n",
              "      }\n",
              "      const div = document.createElement('div');\n",
              "      const label = document.createElement('label');\n",
              "      label.textContent = `Downloading \"${filename}\": `;\n",
              "      div.appendChild(label);\n",
              "      const progress = document.createElement('progress');\n",
              "      progress.max = size;\n",
              "      div.appendChild(progress);\n",
              "      document.body.appendChild(div);\n",
              "\n",
              "      const buffers = [];\n",
              "      let downloaded = 0;\n",
              "\n",
              "      const channel = await google.colab.kernel.comms.open(id);\n",
              "      // Send a message to notify the kernel that we're ready.\n",
              "      channel.send({})\n",
              "\n",
              "      for await (const message of channel.messages) {\n",
              "        // Send a message to notify the kernel that we're ready.\n",
              "        channel.send({})\n",
              "        if (message.buffers) {\n",
              "          for (const buffer of message.buffers) {\n",
              "            buffers.push(buffer);\n",
              "            downloaded += buffer.byteLength;\n",
              "            progress.value = downloaded;\n",
              "          }\n",
              "        }\n",
              "      }\n",
              "      const blob = new Blob(buffers, {type: 'application/binary'});\n",
              "      const a = document.createElement('a');\n",
              "      a.href = window.URL.createObjectURL(blob);\n",
              "      a.download = filename;\n",
              "      div.appendChild(a);\n",
              "      a.click();\n",
              "      div.remove();\n",
              "    }\n",
              "  "
            ]
          },
          "metadata": {}
        },
        {
          "output_type": "display_data",
          "data": {
            "text/plain": [
              "<IPython.core.display.Javascript object>"
            ],
            "application/javascript": [
              "download(\"download_a4176d33-f8e2-4784-a412-311ff2f259a5\", \"output.dxf\", 247697)"
            ]
          },
          "metadata": {}
        }
      ]
    }
  ]
}