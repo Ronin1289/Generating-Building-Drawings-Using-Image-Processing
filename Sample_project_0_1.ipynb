{
  "nbformat": 4,
  "nbformat_minor": 0,
  "metadata": {
    "colab": {
      "provenance": [],
      "authorship_tag": "ABX9TyOA0jC9Mg9HVWZQKjgIjF2I",
      "include_colab_link": true
    },
    "kernelspec": {
      "name": "python3",
      "display_name": "Python 3"
    },
    "language_info": {
      "name": "python"
    }
  },
  "cells": [
    {
      "cell_type": "markdown",
      "metadata": {
        "id": "view-in-github",
        "colab_type": "text"
      },
      "source": [
        "<a href=\"https://colab.research.google.com/github/Ronin1289/Generating-Building-Drawings-Using-Image-Processing/blob/main/Sample_project_0_1.ipynb\" target=\"_parent\"><img src=\"https://colab.research.google.com/assets/colab-badge.svg\" alt=\"Open In Colab\"/></a>"
      ]
    },
    {
      "cell_type": "markdown",
      "source": [
        "To be run locally on jupyter/vs code"
      ],
      "metadata": {
        "id": "wlwsBjlla3_P"
      }
    },
    {
      "cell_type": "code",
      "execution_count": null,
      "metadata": {
        "id": "ZZ3v8MwPaq1b"
      },
      "outputs": [],
      "source": [
        "pip install svgwrite"
      ]
    },
    {
      "cell_type": "code",
      "source": [
        "import cv2\n",
        "import numpy as np\n",
        "\n",
        "# Load the image\n",
        "image_path = \"gsck1.jpeg\"  # Replace with your image path\n",
        "image = cv2.imread(image_path)\n",
        "clone = image.copy()  # Make a copy to draw points\n"
      ],
      "metadata": {
        "id": "EUbrA3GhbIfx"
      },
      "execution_count": null,
      "outputs": []
    },
    {
      "cell_type": "code",
      "source": [
        "\n",
        "# Global variable to store selected points\n",
        "src_points = []\n",
        "\n",
        "def select_points(event, x, y, flags, param):\n",
        "    \"\"\"Mouse callback function to capture 4 points\"\"\"\n",
        "    if event == cv2.EVENT_LBUTTONDOWN:  # Left mouse click\n",
        "        src_points.append((x, y))\n",
        "        print(f\"Selected point: {src_points[-1]}\")\n",
        "\n",
        "        # Draw a small circle on the image where the point was clicked\n",
        "        cv2.circle(clone, (x, y), 5, (0, 0, 255), -1)\n",
        "        cv2.imshow(\"Select 4 Points\", clone)\n",
        "\n",
        "        if len(src_points) == 4:\n",
        "            cv2.destroyAllWindows()  # Close window after selecting 4 points\n",
        "\n",
        "# Open a window for selecting points\n",
        "cv2.imshow(\"Select 4 Points\", image)\n",
        "cv2.setMouseCallback(\"Select 4 Points\", select_points)\n",
        "cv2.waitKey(0)  # Wait until a key is pressed\n",
        "cv2.destroyAllWindows()  # Ensure the window closes\n",
        "\n",
        "print(\"Selected source points:\", src_points)\n",
        "\n",
        "# Ensure exactly 4 points were selected\n",
        "if len(src_points) != 4:\n",
        "    print(\"Error: You must select exactly 4 points.\")\n",
        "    exit()\n"
      ],
      "metadata": {
        "id": "lzQIZ6pebMJa"
      },
      "execution_count": null,
      "outputs": []
    },
    {
      "cell_type": "code",
      "source": [
        "# src_points=[(58, 391), (1218, 351), (59, 577), (1231, 582)]\n",
        "# Define destination points (rectangle in output image)\n",
        "dst_pts = [(0, 0), (600, 0), (0, 300), (600, 300)]\n",
        "output_size = (600, 300)\n",
        "\n",
        "def warp_perspective(image, src_points, dst_points, output_size):\n",
        "    \"\"\"Applies perspective warp to the image.\"\"\"\n",
        "    src_points = np.array(src_points, dtype=np.float32)\n",
        "    dst_points = np.array(dst_points, dtype=np.float32)\n",
        "\n",
        "    # Compute the perspective transform matrix\n",
        "    matrix = cv2.getPerspectiveTransform(src_points, dst_points)\n",
        "\n",
        "    # Apply warp\n",
        "    warped_image = cv2.warpPerspective(image, matrix, output_size)\n",
        "\n",
        "    return warped_image\n",
        "\n",
        "# Apply perspective warp\n",
        "warped = warp_perspective(image, src_points, dst_pts, output_size)\n",
        "\n",
        "# Show the warped image\n",
        "cv2.imshow(\"Warped Image\", warped)\n",
        "cv2.waitKey(0)\n",
        "cv2.destroyAllWindows()\n",
        "\n",
        "#cv2.imwrite(\"warped_output.jpg\",op)"
      ],
      "metadata": {
        "id": "KNpq1BhMbOga"
      },
      "execution_count": null,
      "outputs": []
    },
    {
      "cell_type": "code",
      "source": [
        "import cv2\n",
        "import numpy as np\n",
        "import svgwrite\n"
      ],
      "metadata": {
        "id": "k4b-xoXKbRhc"
      },
      "execution_count": null,
      "outputs": []
    },
    {
      "cell_type": "code",
      "source": [
        "\n",
        "def image_to_svg(image):\n",
        "    \"\"\"\n",
        "    Converts an image (NumPy array) to SVG format using edge detection and contour tracing.\n",
        "\n",
        "    :param image: Input image as a NumPy array (BGR or grayscale).\n",
        "    :return: SVG string data\n",
        "    \"\"\"\n",
        "    # Convert to grayscale if the image is in color\n",
        "    if len(image.shape) == 3:\n",
        "        image = cv2.cvtColor(image, cv2.COLOR_BGR2GRAY)\n",
        "\n",
        "    # Apply Canny edge detection (fixed thresholds 70 and 100)\n",
        "    edges = cv2.Canny(image, 70, 100)\n",
        "\n",
        "    # Find contours from the edges\n",
        "    contours, _ = cv2.findContours(edges, cv2.RETR_EXTERNAL, cv2.CHAIN_APPROX_SIMPLE)\n",
        "\n",
        "    # Get image dimensions\n",
        "    h, w = image.shape\n",
        "\n",
        "    # Create an SVG drawing\n",
        "    dwg = svgwrite.Drawing(size=(w, h))\n",
        "\n",
        "    # Convert contours to SVG paths\n",
        "    for contour in contours:\n",
        "        points = [(p[0][0], p[0][1]) for p in contour]  # Convert to (x, y) tuples\n",
        "        if len(points) > 2:  # Only add meaningful paths\n",
        "            dwg.add(dwg.polyline(points, stroke=\"black\", fill=\"none\", stroke_width=1))\n",
        "\n",
        "    return dwg.tostring()\n",
        "\n",
        "# Example usage\n",
        "# image = cv2.imread(\"input.jpg\")  # Load an image\n",
        "svg_data = image_to_svg(warped)  # Convert to SVG string\n",
        "\n",
        "# Save the SVG to a file (optional)\n",
        "with open(\"output.svg\", \"w\") as f:\n",
        "    f.write(svg_data)\n",
        "\n",
        "print(\"SVG conversion complete.\")\n"
      ],
      "metadata": {
        "id": "ZMIKwk3cbUQd"
      },
      "execution_count": null,
      "outputs": []
    },
    {
      "cell_type": "code",
      "source": [
        "def image_to_svg(image):\n",
        "    \"\"\"\n",
        "    Converts an image (NumPy array) to SVG format using edge detection and contour tracing.\n",
        "\n",
        "    :param image: Input image as a NumPy array (BGR or grayscale).\n",
        "    :return: SVG string data\n",
        "    \"\"\"\n",
        "    # Convert to grayscale if the image is in color\n",
        "    if len(image.shape) == 3:\n",
        "        image = cv2.cvtColor(image, cv2.COLOR_BGR2GRAY)\n",
        "\n",
        "    # Apply Canny edge detection (fixed thresholds 70 and 100)\n",
        "    edges = cv2.Canny(image, 70, 100)\n",
        "\n",
        "    # Find contours from the edges\n",
        "    contours, _ = cv2.findContours(edges, cv2.RETR_EXTERNAL, cv2.CHAIN_APPROX_SIMPLE)\n",
        "\n",
        "    # Get image dimensions\n",
        "    h, w = image.shape\n",
        "\n",
        "    # Create an SVG drawing\n",
        "    dwg = svgwrite.Drawing(size=(w, h))\n",
        "\n",
        "    # Convert contours to SVG paths\n",
        "    for contour in contours:\n",
        "        points = [(float(p[0][0]), float(p[0][1])) for p in contour]  # Ensure coordinates are tuples\n",
        "        if len(points) > 2:  # Only add meaningful paths\n",
        "            dwg.add(dwg.polyline(points, stroke=\"black\", fill=\"none\", stroke_width=1))\n",
        "\n",
        "    return dwg.tostring()\n",
        "\n",
        "# Example usage\n",
        "# image = cv2.imread(\"input.jpg\")  # Load an image\n",
        "svg_data = image_to_svg(warped)  # Convert to SVG\n",
        "\n",
        "# Save the SVG to a file (optional)\n",
        "with open(\"Approach 1.svg\", \"w\") as f:\n",
        "    f.write(svg_data)\n",
        "\n",
        "print(\"SVG conversion complete.\")\n"
      ],
      "metadata": {
        "id": "jgmBQyZObW_i"
      },
      "execution_count": null,
      "outputs": []
    },
    {
      "cell_type": "markdown",
      "source": [
        "Gives output a svg file to be converted into dxf using inkscape\n"
      ],
      "metadata": {
        "id": "Vx6St9IybX9X"
      }
    }
  ]
}