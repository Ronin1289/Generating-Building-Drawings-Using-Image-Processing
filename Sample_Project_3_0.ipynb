{
  "nbformat": 4,
  "nbformat_minor": 0,
  "metadata": {
    "colab": {
      "provenance": [],
      "authorship_tag": "ABX9TyMifFLckozT4+gmG2swRPGe"
    },
    "kernelspec": {
      "name": "python3",
      "display_name": "Python 3"
    },
    "language_info": {
      "name": "python"
    }
  },
  "cells": [
    {
      "cell_type": "code",
      "source": [
        "!pip install ezdxf"
      ],
      "metadata": {
        "colab": {
          "base_uri": "https://localhost:8080/"
        },
        "id": "8ATCFKnsyfWG",
        "outputId": "1da8de0e-97c7-4381-e80d-554550aabf09"
      },
      "execution_count": null,
      "outputs": [
        {
          "output_type": "stream",
          "name": "stdout",
          "text": [
            "Collecting ezdxf\n",
            "  Downloading ezdxf-1.3.5-cp311-cp311-manylinux_2_17_x86_64.manylinux2014_x86_64.whl.metadata (9.8 kB)\n",
            "Requirement already satisfied: pyparsing>=2.0.1 in /usr/local/lib/python3.11/dist-packages (from ezdxf) (3.2.1)\n",
            "Requirement already satisfied: typing_extensions>=4.6.0 in /usr/local/lib/python3.11/dist-packages (from ezdxf) (4.12.2)\n",
            "Requirement already satisfied: numpy in /usr/local/lib/python3.11/dist-packages (from ezdxf) (1.26.4)\n",
            "Requirement already satisfied: fonttools in /usr/local/lib/python3.11/dist-packages (from ezdxf) (4.56.0)\n",
            "Downloading ezdxf-1.3.5-cp311-cp311-manylinux_2_17_x86_64.manylinux2014_x86_64.whl (5.6 MB)\n",
            "\u001b[2K   \u001b[90m━━━━━━━━━━━━━━━━━━━━━━━━━━━━━━━━━━━━━━━━\u001b[0m \u001b[32m5.6/5.6 MB\u001b[0m \u001b[31m32.5 MB/s\u001b[0m eta \u001b[36m0:00:00\u001b[0m\n",
            "\u001b[?25hInstalling collected packages: ezdxf\n",
            "Successfully installed ezdxf-1.3.5\n"
          ]
        }
      ]
    },
    {
      "cell_type": "code",
      "execution_count": null,
      "metadata": {
        "id": "8-r0i0_JZyvv"
      },
      "outputs": [],
      "source": [
        "import cv2\n",
        "import matplotlib.pyplot as plt\n",
        "import numpy as np\n",
        "import ezdxf"
      ]
    },
    {
      "cell_type": "code",
      "source": [
        "img=cv2.imread('/content/sample_data/gsck2.png',cv2.IMREAD_GRAYSCALE)"
      ],
      "metadata": {
        "id": "zqaehV3CyNDS"
      },
      "execution_count": null,
      "outputs": []
    },
    {
      "cell_type": "code",
      "source": [
        "l=dlsd(img)"
      ],
      "metadata": {
        "id": "iBz8AqlYyoWF"
      },
      "execution_count": null,
      "outputs": []
    },
    {
      "cell_type": "code",
      "source": [
        "print(l.shape)"
      ],
      "metadata": {
        "colab": {
          "base_uri": "https://localhost:8080/"
        },
        "id": "Cca3MwdBy-KR",
        "outputId": "672904cb-7140-442e-8faf-c1239d2793d2"
      },
      "execution_count": null,
      "outputs": [
        {
          "output_type": "stream",
          "name": "stdout",
          "text": [
            "(1432, 1, 4)\n"
          ]
        }
      ]
    },
    {
      "cell_type": "code",
      "source": [
        "def dlsd(img):\n",
        "    # Create LSD detector\n",
        "    lsd = cv2.createLineSegmentDetector(0)\n",
        "    # Detect lines\n",
        "    lines, _, _, _ = lsd.detect(img)\n",
        "\n",
        "    return lines if lines is not None else np.array([])  # Return an empty array if no lines are found\n"
      ],
      "metadata": {
        "id": "adm8QXgYz05A"
      },
      "execution_count": null,
      "outputs": []
    },
    {
      "cell_type": "code",
      "source": [
        "import ezdxf\n",
        "import numpy as np\n",
        "\n",
        "def save_lines_to_dxf1(lines, filename=\"output.dxf\"):\n",
        "    # Create a new DXF document\n",
        "    doc = ezdxf.new()\n",
        "    msp = doc.modelspace()\n",
        "\n",
        "    # # Iterate over detected lines and add them to the DXF file\n",
        "    # for line in lines[:, 0, :]:  # Reshape (N, 1, 4) -> (N, 4)\n",
        "    #     x1, y1, x2, y2 = line\n",
        "    #     msp.add_line(start=(x1, y1), end=(x2, y2))\n",
        "      # Automatically detect image height if not provided\n",
        "\n",
        "    y_values = lines[:, 0, [1, 3]]\n",
        "    image_height = np.max(y_values)\n",
        "\n",
        "    # Add lines with flipped Y coordinates (relative to image height)\n",
        "    for line in lines[:, 0, :]:\n",
        "        x1, y1, x2, y2 = line\n",
        "        y1_flipped = image_height - y1\n",
        "        y2_flipped = image_height - y2\n",
        "        msp.add_line(start=(x1, y1_flipped), end=(x2, y2_flipped))\n",
        "\n",
        "\n",
        "    # Save DXF file\n",
        "    doc.saveas(filename)\n",
        "    print(f\"DXF file saved as {filename}\")\n",
        "\n",
        "# Example usage with an existing array of shape (1432, 1, 4)\n",
        "lines = np.random.rand(1432, 1, 4) * 1000  # Example array (replace with actual LSD output)\n",
        "save_lines_to_dxf1(l, \"Approach 3.dxf\")\n",
        "\n",
        "def download_dxf(filename=\"output.dxf\"):\n",
        "    from google.colab import files\n",
        "    files.download(filename)\n",
        "\n",
        "download_dxf(\"Approach 3.dxf\")\n",
        "\n",
        "\n",
        "\n",
        "# Approach 3.dxf\n"
      ],
      "metadata": {
        "id": "eq-Y2MnHags-"
      },
      "execution_count": null,
      "outputs": []
    }
  ]
}