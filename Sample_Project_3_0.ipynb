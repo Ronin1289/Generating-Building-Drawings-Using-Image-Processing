{
  "nbformat": 4,
  "nbformat_minor": 0,
  "metadata": {
    "colab": {
      "provenance": [],
      "authorship_tag": "ABX9TyNcQkLbxrYLpTywlBOf9K2s",
      "include_colab_link": true
    },
    "kernelspec": {
      "name": "python3",
      "display_name": "Python 3"
    },
    "language_info": {
      "name": "python"
    }
  },
  "cells": [
    {
      "cell_type": "markdown",
      "metadata": {
        "id": "view-in-github",
        "colab_type": "text"
      },
      "source": [
        "<a href=\"https://colab.research.google.com/github/Ronin1289/Generating-Building-Drawings-Using-Image-Processing/blob/main/Sample_Project_3_0.ipynb\" target=\"_parent\"><img src=\"https://colab.research.google.com/assets/colab-badge.svg\" alt=\"Open In Colab\"/></a>"
      ]
    },
    {
      "cell_type": "markdown",
      "source": [
        "##INSTALLING LIBRARIES"
      ],
      "metadata": {
        "id": "cdoMgs6tbRZG"
      }
    },
    {
      "cell_type": "code",
      "source": [
        "!pip install ezdxf"
      ],
      "metadata": {
        "colab": {
          "base_uri": "https://localhost:8080/"
        },
        "id": "8ATCFKnsyfWG",
        "outputId": "8e023cbf-ecc4-46df-bae8-8828daa4d200"
      },
      "execution_count": 7,
      "outputs": [
        {
          "output_type": "stream",
          "name": "stdout",
          "text": [
            "Requirement already satisfied: ezdxf in /usr/local/lib/python3.11/dist-packages (1.4.2)\n",
            "Requirement already satisfied: pyparsing>=2.0.1 in /usr/local/lib/python3.11/dist-packages (from ezdxf) (3.2.3)\n",
            "Requirement already satisfied: typing_extensions>=4.6.0 in /usr/local/lib/python3.11/dist-packages (from ezdxf) (4.13.2)\n",
            "Requirement already satisfied: numpy in /usr/local/lib/python3.11/dist-packages (from ezdxf) (2.0.2)\n",
            "Requirement already satisfied: fonttools in /usr/local/lib/python3.11/dist-packages (from ezdxf) (4.58.0)\n"
          ]
        }
      ]
    },
    {
      "cell_type": "markdown",
      "source": [
        "##IMPORTING LIBRARIES"
      ],
      "metadata": {
        "id": "iHGZeLpubb99"
      }
    },
    {
      "cell_type": "code",
      "execution_count": 8,
      "metadata": {
        "id": "8-r0i0_JZyvv"
      },
      "outputs": [],
      "source": [
        "import cv2\n",
        "import matplotlib.pyplot as plt\n",
        "import numpy as np\n",
        "import ezdxf"
      ]
    },
    {
      "cell_type": "markdown",
      "source": [
        "##LOADING IMAGE"
      ],
      "metadata": {
        "id": "aXr_ZIV2bh31"
      }
    },
    {
      "cell_type": "code",
      "source": [
        "img=cv2.imread('/content/sample_data/Orthographic_image.png',cv2.IMREAD_GRAYSCALE)"
      ],
      "metadata": {
        "id": "zqaehV3CyNDS"
      },
      "execution_count": 9,
      "outputs": []
    },
    {
      "cell_type": "markdown",
      "source": [
        "##DEFINING AND APPLYING OpencvLSD ON IMAGE"
      ],
      "metadata": {
        "id": "RuEimmj3bnS9"
      }
    },
    {
      "cell_type": "code",
      "source": [
        "def dlsd(img):\n",
        "    # Create LSD detector\n",
        "    lsd = cv2.createLineSegmentDetector(0)\n",
        "    # Detect lines\n",
        "    lines, _, _, _ = lsd.detect(img)\n",
        "\n",
        "    return lines if lines is not None else np.array([])  # Return an empty array if no lines are found\n"
      ],
      "metadata": {
        "id": "adm8QXgYz05A"
      },
      "execution_count": 10,
      "outputs": []
    },
    {
      "cell_type": "code",
      "source": [
        "LINES=dlsd(img)"
      ],
      "metadata": {
        "id": "iBz8AqlYyoWF"
      },
      "execution_count": 11,
      "outputs": []
    },
    {
      "cell_type": "markdown",
      "source": [
        "##GENERATING DXF FILE USING LINES OBTAIND FROM LSD"
      ],
      "metadata": {
        "id": "I_nqVynjb3nF"
      }
    },
    {
      "cell_type": "code",
      "source": [
        "import ezdxf\n",
        "import numpy as np\n",
        "\n",
        "def save_lines_to_dxf1(lines, filename=\"output.dxf\"):\n",
        "    # Create a new DXF document\n",
        "    doc = ezdxf.new()\n",
        "    msp = doc.modelspace()\n",
        "\n",
        "    # # Iterate over detected lines and add them to the DXF file\n",
        "    # for line in lines[:, 0, :]:  # Reshape (N, 1, 4) -> (N, 4)\n",
        "    #     x1, y1, x2, y2 = line\n",
        "    #     msp.add_line(start=(x1, y1), end=(x2, y2))\n",
        "      # Automatically detect image height if not provided\n",
        "\n",
        "    y_values = lines[:, 0, [1, 3]]\n",
        "    image_height = np.max(y_values)\n",
        "\n",
        "    # Add lines with flipped Y coordinates (relative to image height)\n",
        "    for line in lines[:, 0, :]:\n",
        "        x1, y1, x2, y2 = line\n",
        "        y1_flipped = image_height - y1\n",
        "        y2_flipped = image_height - y2\n",
        "        msp.add_line(start=(x1, y1_flipped), end=(x2, y2_flipped))\n",
        "\n",
        "\n",
        "    # Save DXF file\n",
        "    doc.saveas(filename)\n",
        "    print(f\"DXF file saved as {filename}\")\n",
        "\n",
        "save_lines_to_dxf1(LINES, \"Approach 3.dxf\")\n"
      ],
      "metadata": {
        "colab": {
          "base_uri": "https://localhost:8080/"
        },
        "id": "eq-Y2MnHags-",
        "outputId": "8380e322-fbc6-457d-d4e6-21e55163cc26"
      },
      "execution_count": 12,
      "outputs": [
        {
          "output_type": "stream",
          "name": "stdout",
          "text": [
            "DXF file saved as Approach 3.dxf\n"
          ]
        }
      ]
    },
    {
      "cell_type": "markdown",
      "source": [
        "##DOWNLOADING OUTPUT DXF FILE"
      ],
      "metadata": {
        "id": "k3yZRv_6cK6N"
      }
    },
    {
      "cell_type": "code",
      "source": [
        "def download_dxf(filename=\"output.dxf\"):\n",
        "    from google.colab import files\n",
        "    files.download(filename)\n",
        "\n",
        "download_dxf(\"Approach 3.dxf\")\n",
        "\n"
      ],
      "metadata": {
        "id": "VyxibbFHcJvN",
        "outputId": "f8fb4c25-89ac-422f-a58a-812799cd9ce2",
        "colab": {
          "base_uri": "https://localhost:8080/",
          "height": 17
        }
      },
      "execution_count": 13,
      "outputs": [
        {
          "output_type": "display_data",
          "data": {
            "text/plain": [
              "<IPython.core.display.Javascript object>"
            ],
            "application/javascript": [
              "\n",
              "    async function download(id, filename, size) {\n",
              "      if (!google.colab.kernel.accessAllowed) {\n",
              "        return;\n",
              "      }\n",
              "      const div = document.createElement('div');\n",
              "      const label = document.createElement('label');\n",
              "      label.textContent = `Downloading \"${filename}\": `;\n",
              "      div.appendChild(label);\n",
              "      const progress = document.createElement('progress');\n",
              "      progress.max = size;\n",
              "      div.appendChild(progress);\n",
              "      document.body.appendChild(div);\n",
              "\n",
              "      const buffers = [];\n",
              "      let downloaded = 0;\n",
              "\n",
              "      const channel = await google.colab.kernel.comms.open(id);\n",
              "      // Send a message to notify the kernel that we're ready.\n",
              "      channel.send({})\n",
              "\n",
              "      for await (const message of channel.messages) {\n",
              "        // Send a message to notify the kernel that we're ready.\n",
              "        channel.send({})\n",
              "        if (message.buffers) {\n",
              "          for (const buffer of message.buffers) {\n",
              "            buffers.push(buffer);\n",
              "            downloaded += buffer.byteLength;\n",
              "            progress.value = downloaded;\n",
              "          }\n",
              "        }\n",
              "      }\n",
              "      const blob = new Blob(buffers, {type: 'application/binary'});\n",
              "      const a = document.createElement('a');\n",
              "      a.href = window.URL.createObjectURL(blob);\n",
              "      a.download = filename;\n",
              "      div.appendChild(a);\n",
              "      a.click();\n",
              "      div.remove();\n",
              "    }\n",
              "  "
            ]
          },
          "metadata": {}
        },
        {
          "output_type": "display_data",
          "data": {
            "text/plain": [
              "<IPython.core.display.Javascript object>"
            ],
            "application/javascript": [
              "download(\"download_e3a0eb53-f31f-400b-8ac6-9be6c69c09d4\", \"Approach 3.dxf\", 247197)"
            ]
          },
          "metadata": {}
        }
      ]
    }
  ]
}