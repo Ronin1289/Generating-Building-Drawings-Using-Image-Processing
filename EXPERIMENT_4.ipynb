{
  "nbformat": 4,
  "nbformat_minor": 0,
  "metadata": {
    "colab": {
      "provenance": [],
      "mount_file_id": "18lj8cu4HdmYEWDDEUgFRLr71cJNOHMTf",
      "authorship_tag": "ABX9TyNloUth7lWRfWAxN1SiHKQ7",
      "include_colab_link": true
    },
    "kernelspec": {
      "name": "python3",
      "display_name": "Python 3"
    },
    "language_info": {
      "name": "python"
    }
  },
  "cells": [
    {
      "cell_type": "markdown",
      "metadata": {
        "id": "view-in-github",
        "colab_type": "text"
      },
      "source": [
        "<a href=\"https://colab.research.google.com/github/Ronin1289/Generating-Building-Drawings-Using-Image-Processing/blob/Experiments/EXPERIMENT_4.ipynb\" target=\"_parent\"><img src=\"https://colab.research.google.com/assets/colab-badge.svg\" alt=\"Open In Colab\"/></a>"
      ]
    },
    {
      "cell_type": "markdown",
      "source": [
        "#L-CNN (wire parsing network)"
      ],
      "metadata": {
        "id": "xjavKmFY-qqB"
      }
    },
    {
      "cell_type": "markdown",
      "source": [
        "#DeepLSD\n"
      ],
      "metadata": {
        "id": "XErGJm0AG9LC"
      }
    },
    {
      "cell_type": "code",
      "source": [
        "import cv2\n",
        "import pandas as pd\n",
        "import numpy as np\n",
        "import matplotlib.pyplot as plt"
      ],
      "metadata": {
        "id": "x52z8yYU9jYI"
      },
      "execution_count": null,
      "outputs": []
    },
    {
      "cell_type": "code",
      "source": [
        "print(\"Hello World\")\n"
      ],
      "metadata": {
        "colab": {
          "base_uri": "https://localhost:8080/"
        },
        "id": "AY4lGQ5oIQtq",
        "outputId": "3a5f2911-2ca9-44c6-ea36-d6ed44ec17ba"
      },
      "execution_count": null,
      "outputs": [
        {
          "output_type": "stream",
          "name": "stdout",
          "text": [
            "Hello World\n"
          ]
        }
      ]
    },
    {
      "cell_type": "code",
      "source": [
        "import torch"
      ],
      "metadata": {
        "id": "vxke4gPfAQum"
      },
      "execution_count": 5,
      "outputs": []
    }
  ]
}